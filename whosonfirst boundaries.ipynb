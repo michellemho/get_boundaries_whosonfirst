{
 "cells": [
  {
   "cell_type": "code",
   "execution_count": 158,
   "metadata": {
    "collapsed": false
   },
   "outputs": [],
   "source": [
    "import cartoframes\n",
    "import requests\n",
    "import pandas as pd\n",
    "import geopandas as gpd\n",
    "import json\n",
    "import shapely\n",
    "\n",
    "from carto.auth import APIKeyAuthClient\n",
    "from carto.sql import SQLClient\n",
    "from carto.datasets import DatasetManager"
   ]
  },
  {
   "cell_type": "code",
   "execution_count": 32,
   "metadata": {
    "collapsed": true
   },
   "outputs": [],
   "source": [
    "cc = cartoframes.CartoContext()"
   ]
  },
  {
   "cell_type": "code",
   "execution_count": 33,
   "metadata": {
    "collapsed": false
   },
   "outputs": [],
   "source": [
    "auth_client = APIKeyAuthClient(api_key=cc.creds.key(), base_url=cc.creds.base_url())"
   ]
  },
  {
   "cell_type": "code",
   "execution_count": 34,
   "metadata": {
    "collapsed": true
   },
   "outputs": [],
   "source": [
    "# mapzen api_key\n",
    "api_key = 'mapzen-CQ12NPK'"
   ]
  },
  {
   "cell_type": "code",
   "execution_count": 35,
   "metadata": {
    "collapsed": false
   },
   "outputs": [],
   "source": [
    "brooklyn = '102082361'\n",
    "crown_heights = '85867069'"
   ]
  },
  {
   "cell_type": "code",
   "execution_count": 171,
   "metadata": {
    "collapsed": true
   },
   "outputs": [],
   "source": [
    "getDescendantsURL = 'https://places.mapzen.com/v1/?method=mapzen.places.getDescendants&api_key={api_key}&id={id}&placetype={placetype}'\n",
    "getInfoURL = 'https://places.mapzen.com/v1/?method=mapzen.places.getInfo&api_key={api_key}&&id={ids}&format=json&extras=mz:uri'\n",
    "getInfoMultiURL = 'https://places.mapzen.com/v1/?method=mapzen.places.getInfoMulti&api_key={api_key}&&ids={ids}&format=csv&extras=mz:uri'\n",
    "placesSearchURL = 'https://places.mapzen.com/v1/?method=mapzen.places.search&api_key={api_key}&names={names}&placetype={placetype}&format=csv&per_page=500'\n",
    "getPlaceTypesList = 'https://places.mapzen.com/v1/?method=mapzen.places.placetypes.getList&api_key={api_key}&role=common'"
   ]
  },
  {
   "cell_type": "code",
   "execution_count": 282,
   "metadata": {
    "collapsed": false
   },
   "outputs": [
    {
     "data": {
      "text/plain": [
       "<Response [200]>"
      ]
     },
     "execution_count": 282,
     "metadata": {},
     "output_type": "execute_result"
    }
   ],
   "source": [
    "requests.get(getInfoURL.format(api_key=api_key,ids='102082361'))"
   ]
  },
  {
   "cell_type": "code",
   "execution_count": 283,
   "metadata": {
    "collapsed": false
   },
   "outputs": [
    {
     "data": {
      "text/plain": [
       "'https://places.mapzen.com/v1/?method=mapzen.places.getInfo&api_key=mapzen-CQ12NPK&&id=102082361&format=json&extras=mz:uri'"
      ]
     },
     "execution_count": 283,
     "metadata": {},
     "output_type": "execute_result"
    }
   ],
   "source": [
    "getInfoURL.format(api_key=api_key,ids='102082361')"
   ]
  },
  {
   "cell_type": "code",
   "execution_count": 172,
   "metadata": {
    "collapsed": false
   },
   "outputs": [
    {
     "data": {
      "text/plain": [
       "'https://places.mapzen.com/v1/?method=mapzen.places.search&api_key=mapzen-CQ12NPK&names=&placetype=country&format=csv&per_page=500'"
      ]
     },
     "execution_count": 172,
     "metadata": {},
     "output_type": "execute_result"
    }
   ],
   "source": [
    "placesSearchURL.format(api_key=api_key, names='',placetype='country')"
   ]
  },
  {
   "cell_type": "code",
   "execution_count": 173,
   "metadata": {
    "collapsed": false
   },
   "outputs": [],
   "source": [
    "countries = pd.read_csv(placesSearchURL.format(api_key=api_key, names='',placetype='country'))"
   ]
  },
  {
   "cell_type": "code",
   "execution_count": 207,
   "metadata": {
    "collapsed": false,
    "scrolled": true
   },
   "outputs": [],
   "source": [
    "alphabetical = countries['wof_name'].sort_values()"
   ]
  },
  {
   "cell_type": "code",
   "execution_count": 256,
   "metadata": {
    "collapsed": true
   },
   "outputs": [],
   "source": [
    "brazil = countries.iloc[5]"
   ]
  },
  {
   "cell_type": "code",
   "execution_count": 253,
   "metadata": {
    "collapsed": false,
    "scrolled": true
   },
   "outputs": [
    {
     "data": {
      "text/plain": [
       "wof_country                    BR\n",
       "wof_id                   85633009\n",
       "wof_name                   Brazil\n",
       "wof_parent_id           102191577\n",
       "wof_placetype             country\n",
       "wof_repo         whosonfirst-data\n",
       "Name: 5, dtype: object"
      ]
     },
     "execution_count": 253,
     "metadata": {},
     "output_type": "execute_result"
    }
   ],
   "source": [
    "countries = pd.read_csv(placesSearchURL.format(api_key=api_key, names='',placetype='country'))"
   ]
  },
  {
   "cell_type": "code",
   "execution_count": 258,
   "metadata": {
    "collapsed": false
   },
   "outputs": [],
   "source": [
    "brazil_region_url = placesSearchURL.format(api_key=api_key, names='',placetype='region')+'&country_id={}'.format(brazil.wof_id)"
   ]
  },
  {
   "cell_type": "code",
   "execution_count": 264,
   "metadata": {
    "collapsed": false
   },
   "outputs": [],
   "source": [
    "brazil_regions = pd.read_csv(brazil_region_url)"
   ]
  },
  {
   "cell_type": "code",
   "execution_count": 267,
   "metadata": {
    "collapsed": false
   },
   "outputs": [
    {
     "data": {
      "text/plain": [
       "(27, 6)"
      ]
     },
     "execution_count": 267,
     "metadata": {},
     "output_type": "execute_result"
    }
   ],
   "source": [
    "brazil_regions.shape"
   ]
  },
  {
   "cell_type": "code",
   "execution_count": 273,
   "metadata": {
    "collapsed": false
   },
   "outputs": [],
   "source": [
    "for brazil_region_id in brazil_regions.wof_id:\n",
    "    response = requests.get(getInfoURL.format(api_key=api_key,ids=brazil_region_id))\n",
    "    data = json.loads(response.text)\n",
    "    geojson_url = data['place']['mz:uri']\n",
    "    polygon = json.loads(requests.get(geojson_url).text)\n",
    "    plt.shapely.geometry.shape(polygon['geometry'])"
   ]
  },
  {
   "cell_type": "code",
   "execution_count": null,
   "metadata": {
    "collapsed": true
   },
   "outputs": [],
   "source": []
  },
  {
   "cell_type": "code",
   "execution_count": 114,
   "metadata": {
    "collapsed": false
   },
   "outputs": [],
   "source": [
    "response = requests.get(placesSearchURL.format(api_key=api_key,names=['New York'],placetypes=''))"
   ]
  },
  {
   "cell_type": "code",
   "execution_count": 115,
   "metadata": {
    "collapsed": false
   },
   "outputs": [],
   "source": [
    "data = json.loads(response.text)"
   ]
  },
  {
   "cell_type": "code",
   "execution_count": 117,
   "metadata": {
    "collapsed": false
   },
   "outputs": [],
   "source": [
    "#grab the first place\n",
    "feeling_lucky_id = data['places'][0]['wof:id']"
   ]
  },
  {
   "cell_type": "code",
   "execution_count": 151,
   "metadata": {
    "collapsed": false
   },
   "outputs": [],
   "source": [
    "response = requests.get(getInfoURL.format(api_key=api_key,ids=feeling_lucky_id))\n",
    "data = json.loads(response.text)\n",
    "geojson_url = data['place']['mz:uri']\n",
    "polygon = json.loads(requests.get(geojson_url).text)"
   ]
  },
  {
   "cell_type": "code",
   "execution_count": 25,
   "metadata": {
    "collapsed": false,
    "scrolled": true
   },
   "outputs": [
    {
     "name": "stderr",
     "output_type": "stream",
     "text": [
      "/Users/mho/anaconda3/lib/python3.5/site-packages/carto/resources.py:90: FutureWarning: This is part of a non-public CARTO API and may change in the future. Take this into account if you are using this in a production environment\n",
      "  warnings.warn('This is part of a non-public CARTO API and may change in the future. Take this into account if you are using this in a production environment', FutureWarning)\n"
     ]
    }
   ],
   "source": [
    "# Send the dataset to CARTO\n",
    "dataset_manager = DatasetManager(auth_client)\n",
    "dataset = dataset_manager.create(geojson_url)"
   ]
  },
  {
   "cell_type": "code",
   "execution_count": 44,
   "metadata": {
    "collapsed": false,
    "scrolled": true
   },
   "outputs": [],
   "source": [
    "# some WOF properties to keep\n",
    "geom = polygon['geometry']\n",
    "name = polygon['properties']['wof:label']\n",
    "wof_id = polygon['properties']['wof:id']"
   ]
  },
  {
   "cell_type": "code",
   "execution_count": 119,
   "metadata": {
    "collapsed": false
   },
   "outputs": [
    {
     "data": {
      "text/plain": [
       "1108746619"
      ]
     },
     "execution_count": 119,
     "metadata": {},
     "output_type": "execute_result"
    }
   ],
   "source": [
    "response = requests.get(getDescendantsURL.format(api_key=api_key,id=feeling_lucky_id,placetype=''))\n",
    "data = json.loads(response.text)\n",
    "feeling_lucky_id"
   ]
  },
  {
   "cell_type": "code",
   "execution_count": null,
   "metadata": {
    "collapsed": true
   },
   "outputs": [],
   "source": []
  }
 ],
 "metadata": {
  "anaconda-cloud": {},
  "kernelspec": {
   "display_name": "Python [default]",
   "language": "python",
   "name": "python3"
  },
  "language_info": {
   "codemirror_mode": {
    "name": "ipython",
    "version": 3
   },
   "file_extension": ".py",
   "mimetype": "text/x-python",
   "name": "python",
   "nbconvert_exporter": "python",
   "pygments_lexer": "ipython3",
   "version": "3.5.2"
  }
 },
 "nbformat": 4,
 "nbformat_minor": 1
}
